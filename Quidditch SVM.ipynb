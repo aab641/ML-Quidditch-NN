{
 "cells": [
  {
   "cell_type": "markdown",
   "metadata": {},
   "source": [
    "# Support Vector Machines"
   ]
  },
  {
   "cell_type": "markdown",
   "metadata": {},
   "source": [
    "First, load the standard packages."
   ]
  },
  {
   "cell_type": "code",
   "execution_count": 1,
   "metadata": {},
   "outputs": [],
   "source": [
    "import numpy as np\n",
    "import pandas as pd\n",
    "from sklearn import linear_model\n",
    "import matplotlib.pyplot as plt\n",
    "from sklearn import svm\n",
    "\n",
    "%matplotlib inline"
   ]
  },
  {
   "cell_type": "markdown",
   "metadata": {},
   "source": [
    "Read the 'quidditch_training.csv' file into a Data Frame."
   ]
  },
  {
   "cell_type": "code",
   "execution_count": 2,
   "metadata": {},
   "outputs": [
    {
     "name": "stdout",
     "output_type": "stream",
     "text": [
      "(101266, 48)\n"
     ]
    }
   ],
   "source": [
    "df = pd.read_csv(\"C:\\\\Users\\\\alexb\\\\Downloads\\\\qudditch_training.csv\")\n",
    "print(df.shape)"
   ]
  },
  {
   "cell_type": "markdown",
   "metadata": {},
   "source": [
    "Get the rows and columns of the Data Frame to help split matrix into training and testing sets."
   ]
  },
  {
   "cell_type": "code",
   "execution_count": 3,
   "metadata": {},
   "outputs": [],
   "source": [
    "df1 = df.values\n",
    "df1 = df1[:,2:]"
   ]
  },
  {
   "cell_type": "markdown",
   "metadata": {},
   "source": [
    "Cleaning data for poorly structured features and irrelevant data."
   ]
  },
  {
   "cell_type": "code",
   "execution_count": 4,
   "metadata": {},
   "outputs": [],
   "source": [
    "for i in range(2):\n",
    "    df1[:,13] += df1[:,14]\n",
    "    df1 = np.delete(df1, [14], 1)"
   ]
  },
  {
   "cell_type": "code",
   "execution_count": 5,
   "metadata": {},
   "outputs": [],
   "source": [
    "colDel = []\n",
    "row, col = df1.shape\n",
    "\n",
    "for i in range(row):\n",
    "    for j in range(col):\n",
    "        if df1[i][j] == '?':\n",
    "            if j not in colDel:\n",
    "                colDel.append(j)"
   ]
  },
  {
   "cell_type": "code",
   "execution_count": 6,
   "metadata": {},
   "outputs": [],
   "source": [
    "i = 0\n",
    "while (i != len(colDel)):\n",
    "    df1 = np.delete(df1, colDel[i], 1)\n",
    "    i += 1"
   ]
  },
  {
   "cell_type": "markdown",
   "metadata": {},
   "source": [
    "Splitting the data by features and target values."
   ]
  },
  {
   "cell_type": "code",
   "execution_count": 7,
   "metadata": {},
   "outputs": [],
   "source": [
    "X = df1[:,:-1]\n",
    "Y = df1[:,-1]"
   ]
  },
  {
   "cell_type": "markdown",
   "metadata": {},
   "source": [
    "Creating training/test sets by splitting both X and Y sets. In addition, creating the penalty parameter, c, for the margin."
   ]
  },
  {
   "cell_type": "code",
   "execution_count": 8,
   "metadata": {},
   "outputs": [],
   "source": [
    "row, col = df1.shape\n",
    "rowHalf = row//2"
   ]
  },
  {
   "cell_type": "code",
   "execution_count": 9,
   "metadata": {},
   "outputs": [],
   "source": [
    "xTrain = X[:rowHalf]\n",
    "yTrain = Y[:rowHalf]\n",
    "xTest = X[rowHalf:]\n",
    "yTest = Y[rowHalf:]\n",
    "\n",
    "cMat = []\n",
    "for i in range(11):\n",
    "    cMat.append(10**(-i))"
   ]
  },
  {
   "cell_type": "markdown",
   "metadata": {},
   "source": [
    "Addressing some format issues found in the last column for the feature matrix -- failure to convert 'Ch' and 'No' as valid inputs."
   ]
  },
  {
   "cell_type": "code",
   "execution_count": 10,
   "metadata": {},
   "outputs": [],
   "source": [
    "for i in range(len(X[:,-1])):\n",
    "    if X[:,-1][i] == 'Ch':\n",
    "        X[i] = 1\n",
    "    else:\n",
    "        X[i] = 0"
   ]
  },
  {
   "cell_type": "code",
   "execution_count": 11,
   "metadata": {},
   "outputs": [],
   "source": [
    "accTrainSvm = []"
   ]
  },
  {
   "cell_type": "code",
   "execution_count": 12,
   "metadata": {},
   "outputs": [],
   "source": [
    "accTestSvm = []"
   ]
  },
  {
   "cell_type": "markdown",
   "metadata": {},
   "source": [
    "# Linear Kernel"
   ]
  },
  {
   "cell_type": "markdown",
   "metadata": {},
   "source": [
    "SVM regression using a linear kernel."
   ]
  },
  {
   "cell_type": "code",
   "execution_count": 13,
   "metadata": {},
   "outputs": [],
   "source": [
    "def svmLinear(xTrain, yTrain, xTest, yTest, c):\n",
    "    svc = svm.SVC(probability = False, kernel = 'linear', gamma='auto', C = c)\n",
    "    \n",
    "    svc.fit(xTrain, yTrain)\n",
    "    \n",
    "    yhatTrain = svc.predict(xTrain)\n",
    "    accTrain = np.mean(yhatTrain == yTrain)\n",
    "    \n",
    "    accTrainSvm.append(accTrain)\n",
    "    print(\"Train Accuracy = {0:f}\".format(accTrain))\n",
    "    \n",
    "    yhatTest = svc.predict(xTest)\n",
    "    accTest = np.mean(yhatTest == yTest)\n",
    "    \n",
    "    accTestSvm.append(accTest)\n",
    "    print(\"Test Accuracy = {0:f}\".format(accTest))"
   ]
  },
  {
   "cell_type": "code",
   "execution_count": 14,
   "metadata": {},
   "outputs": [
    {
     "name": "stdout",
     "output_type": "stream",
     "text": [
      "11\n",
      "Train Accuracy = 0.537515\n",
      "Test Accuracy = 0.540833\n",
      "Train Accuracy = 0.537515\n",
      "Test Accuracy = 0.540833\n",
      "Train Accuracy = 0.537515\n",
      "Test Accuracy = 0.540833\n",
      "Train Accuracy = 0.537515\n",
      "Test Accuracy = 0.540833\n",
      "Train Accuracy = 0.537515\n",
      "Test Accuracy = 0.540833\n",
      "Train Accuracy = 0.537515\n",
      "Test Accuracy = 0.540833\n",
      "Train Accuracy = 0.537515\n",
      "Test Accuracy = 0.540833\n",
      "Train Accuracy = 0.537515\n",
      "Test Accuracy = 0.540833\n",
      "Train Accuracy = 0.537515\n",
      "Test Accuracy = 0.540833\n",
      "Train Accuracy = 0.537515\n",
      "Test Accuracy = 0.540833\n",
      "Train Accuracy = 0.537515\n",
      "Test Accuracy = 0.540833\n"
     ]
    }
   ],
   "source": [
    "print(len(cMat))\n",
    "for c in cMat:\n",
    "    svmLinear(xTrain, yTrain, xTest, yTest, c)"
   ]
  },
  {
   "cell_type": "code",
   "execution_count": 17,
   "metadata": {},
   "outputs": [
    {
     "data": {
      "text/plain": [
       "<matplotlib.legend.Legend at 0x26c1ef6e6d8>"
      ]
     },
     "execution_count": 17,
     "metadata": {},
     "output_type": "execute_result"
    },
    {
     "data": {
      "image/png": "[encoded data removed]",
      "text/plain": [
       "<Figure size 432x288 with 1 Axes>"
      ]
     },
     "metadata": {
      "needs_background": "light"
     },
     "output_type": "display_data"
    }
   ],
   "source": [
    "plt.plot(cMat, accTrainSvm, 'ro-')\n",
    "plt.plot(cMat, accTestSvm, 'bo-')\n",
    "plt.grid()\n",
    "plt.legend(['Training Accuracy','Test Accuracy'], loc = 'lower right')"
   ]
  },
  {
   "cell_type": "markdown",
   "metadata": {},
   "source": [
    "We reset the values for both the trained and tested accuracy matrices as well as the penalty matrix for reuse."
   ]
  },
  {
   "cell_type": "code",
   "execution_count": 18,
   "metadata": {},
   "outputs": [],
   "source": [
    "accTrainSvm.clear()\n",
    "accTestSvm.clear()"
   ]
  },
  {
   "cell_type": "markdown",
   "metadata": {},
   "source": [
    "# Radial Basis Function (RBF) Kernel"
   ]
  },
  {
   "cell_type": "markdown",
   "metadata": {},
   "source": [
    "SVM regression using a RBF kernel."
   ]
  },
  {
   "cell_type": "code",
   "execution_count": 19,
   "metadata": {},
   "outputs": [],
   "source": [
    "def svmRBF(xTrain, yTrain, xTest, yTest, c):\n",
    "    svc = svm.SVC(probability = False, kernel = 'rbf', gamma='auto', C = c)\n",
    "    \n",
    "    svc.fit(xTrain, yTrain)\n",
    "    \n",
    "    yhatTrain = svc.predict(xTrain)\n",
    "    accTrain = np.mean(yhatTrain == yTrain)\n",
    "    \n",
    "    accTrainSvm.append(accTrain)\n",
    "    print(\"Train Accuracy = {0:f}\".format(accTrain))\n",
    "    \n",
    "    yhatTest = svc.predict(xTest)\n",
    "    accTest = np.mean(yhatTest == yTest)\n",
    "    \n",
    "    accTestSvm.append(accTest)\n",
    "    print(\"Test Accuracy = {0:f}\".format(accTest))"
   ]
  },
  {
   "cell_type": "code",
   "execution_count": 20,
   "metadata": {},
   "outputs": [
    {
     "name": "stdout",
     "output_type": "stream",
     "text": [
      "Train Accuracy = 0.537515\n",
      "Test Accuracy = 0.540833\n",
      "Train Accuracy = 0.537515\n",
      "Test Accuracy = 0.540833\n",
      "Train Accuracy = 0.537515\n",
      "Test Accuracy = 0.540833\n",
      "Train Accuracy = 0.537515\n",
      "Test Accuracy = 0.540833\n",
      "Train Accuracy = 0.537515\n",
      "Test Accuracy = 0.540833\n",
      "Train Accuracy = 0.537515\n",
      "Test Accuracy = 0.540833\n",
      "Train Accuracy = 0.537515\n",
      "Test Accuracy = 0.540833\n",
      "Train Accuracy = 0.537515\n",
      "Test Accuracy = 0.540833\n",
      "Train Accuracy = 0.537515\n",
      "Test Accuracy = 0.540833\n",
      "Train Accuracy = 0.537515\n",
      "Test Accuracy = 0.540833\n",
      "Train Accuracy = 0.537515\n",
      "Test Accuracy = 0.540833\n"
     ]
    }
   ],
   "source": [
    "for c in cMat:\n",
    "    svmRBF(xTrain, yTrain, xTest, yTest, c)"
   ]
  },
  {
   "cell_type": "code",
   "execution_count": 22,
   "metadata": {},
   "outputs": [
    {
     "data": {
      "text/plain": [
       "<matplotlib.legend.Legend at 0x26c1f01c7b8>"
      ]
     },
     "execution_count": 22,
     "metadata": {},
     "output_type": "execute_result"
    },
    {
     "data": {
      "image/png": "[encoded data removed]",
      "text/plain": [
       "<Figure size 432x288 with 1 Axes>"
      ]
     },
     "metadata": {
      "needs_background": "light"
     },
     "output_type": "display_data"
    }
   ],
   "source": [
    "plt.plot(cMat, accTrainSvm, 'ro-')\n",
    "plt.plot(cMat, accTestSvm, 'bo-')\n",
    "plt.grid()\n",
    "plt.legend(['Training Accuracy','Test Accuracy'], loc = 'lower right')"
   ]
  },
  {
   "cell_type": "code",
   "execution_count": 23,
   "metadata": {},
   "outputs": [],
   "source": [
    "accTrainSvm.clear()\n",
    "accTestSvm.clear()"
   ]
  },
  {
   "cell_type": "markdown",
   "metadata": {},
   "source": [
    "# Polynomial Kernel"
   ]
  },
  {
   "cell_type": "markdown",
   "metadata": {},
   "source": [
    "SVM regression using a polynomial kernel."
   ]
  },
  {
   "cell_type": "code",
   "execution_count": 24,
   "metadata": {},
   "outputs": [],
   "source": [
    "def svmPoly(xTrain, yTrain, xTest, yTest, c):\n",
    "    svc = svm.SVC(probability = False, kernel = 'poly', gamma='auto', C = c)\n",
    "    \n",
    "    svc.fit(xTrain, yTrain)\n",
    "    \n",
    "    yhatTrain = svc.predict(xTrain)\n",
    "    accTrain = np.mean(yhatTrain == yTrain)\n",
    "    \n",
    "    accTrainSvm.append(accTrain)\n",
    "    print(\"Train Accuracy = {0:f}\".format(accTrain))\n",
    "    \n",
    "    yhatTest = svc.predict(xTest)\n",
    "    accTest = np.mean(yhatTest == yTest)\n",
    "    \n",
    "    accTestSvm.append(accTest)\n",
    "    print(\"Test Accuracy = {0:f}\".format(accTest))"
   ]
  },
  {
   "cell_type": "code",
   "execution_count": 25,
   "metadata": {},
   "outputs": [
    {
     "name": "stdout",
     "output_type": "stream",
     "text": [
      "Train Accuracy = 0.537515\n",
      "Test Accuracy = 0.540833\n",
      "Train Accuracy = 0.537515\n",
      "Test Accuracy = 0.540833\n",
      "Train Accuracy = 0.537515\n",
      "Test Accuracy = 0.540833\n",
      "Train Accuracy = 0.537515\n",
      "Test Accuracy = 0.540833\n",
      "Train Accuracy = 0.537515\n",
      "Test Accuracy = 0.540833\n",
      "Train Accuracy = 0.537515\n",
      "Test Accuracy = 0.540833\n",
      "Train Accuracy = 0.537515\n",
      "Test Accuracy = 0.540833\n",
      "Train Accuracy = 0.537515\n",
      "Test Accuracy = 0.540833\n",
      "Train Accuracy = 0.537515\n",
      "Test Accuracy = 0.540833\n",
      "Train Accuracy = 0.537515\n",
      "Test Accuracy = 0.540833\n",
      "Train Accuracy = 0.537515\n",
      "Test Accuracy = 0.540833\n"
     ]
    }
   ],
   "source": [
    "for c in cMat:\n",
    "    svmPoly(xTrain, yTrain, xTest, yTest, c)"
   ]
  },
  {
   "cell_type": "code",
   "execution_count": 26,
   "metadata": {},
   "outputs": [
    {
     "data": {
      "text/plain": [
       "<matplotlib.legend.Legend at 0x26c1f305748>"
      ]
     },
     "execution_count": 26,
     "metadata": {},
     "output_type": "execute_result"
    },
    {
     "data": {
      "image/png": "[encoded data removed]",
      "text/plain": [
       "<Figure size 432x288 with 1 Axes>"
      ]
     },
     "metadata": {
      "needs_background": "light"
     },
     "output_type": "display_data"
    }
   ],
   "source": [
    "plt.plot(cMat, accTrainSvm, 'ro-')\n",
    "plt.plot(cMat, accTestSvm, 'bo-')\n",
    "plt.grid()\n",
    "plt.legend(['Training Accuracy','Test Accuracy'], loc = 'lower right')"
   ]
  },
  {
   "cell_type": "code",
   "execution_count": null,
   "metadata": {},
   "outputs": [],
   "source": []
  },
  {
   "cell_type": "code",
   "execution_count": null,
   "metadata": {},
   "outputs": [],
   "source": []
  },
  {
   "cell_type": "code",
   "execution_count": null,
   "metadata": {},
   "outputs": [],
   "source": []
  }
 ],
 "metadata": {
  "kernelspec": {
   "display_name": "Python 3",
   "language": "python",
   "name": "python3"
  },
  "language_info": {
   "codemirror_mode": {
    "name": "ipython",
    "version": 3
   },
   "file_extension": ".py",
   "mimetype": "text/x-python",
   "name": "python",
   "nbconvert_exporter": "python",
   "pygments_lexer": "ipython3",
   "version": "3.6.8"
  }
 },
 "nbformat": 4,
 "nbformat_minor": 2
}
